{
 "cells": [
  {
   "cell_type": "code",
   "execution_count": 1,
   "metadata": {},
   "outputs": [],
   "source": [
    "import math\n",
    "import numpy as np"
   ]
  },
  {
   "cell_type": "code",
   "execution_count": 2,
   "metadata": {},
   "outputs": [],
   "source": [
    "points = np.array([[5.9,3.2],[4.6,2.9],[6.2,2.8],[4.7,3.2],[5.5,4.2],[5.0,3.0],[4.9,3.1],[6.7,3.1],[5.1,3.8],[6.0,3.0]])\n",
    "\n",
    "x1,y1=6.2,3.2\n",
    "x2,y2=6.6,3.7\n",
    "x3,y3=6.5,3.0\n",
    "\n",
    "cluster1=[]\n",
    "cluster2=[]\n",
    "cluster3=[]"
   ]
  },
  {
   "cell_type": "markdown",
   "metadata": {},
   "source": [
    "# Eucledian Distance"
   ]
  },
  {
   "cell_type": "code",
   "execution_count": 3,
   "metadata": {},
   "outputs": [
    {
     "name": "stdout",
     "output_type": "stream",
     "text": [
      "cluster 1: [[5.9, 3.2], [4.6, 2.9], [4.7, 3.2], [5.0, 3.0], [4.9, 3.1], [5.1, 3.8], [6.0, 3.0]]\n",
      "cluster 2: [[5.5, 4.2]]\n",
      "cluster 3: [[6.2, 2.8], [6.7, 3.1]]\n"
     ]
    }
   ],
   "source": [
    "def eduDist(a,b):\n",
    "    d1=math.sqrt((a-x1)**2+(b-y1)**2)\n",
    "    d2=math.sqrt((a-x2)**2+(b-y2)**2)\n",
    "    d3=math.sqrt((a-x3)**2+(b-y3)**2)\n",
    "    \n",
    "    minDistance = min(d1,d2,d3)\n",
    "    \n",
    "    if minDistance == d1:\n",
    "        cluster1.append([a,b])\n",
    "    elif minDistance==d2:\n",
    "        cluster2.append([a,b])\n",
    "    else:\n",
    "        cluster3.append([a,b])\n",
    "    \n",
    "for i,j in points:\n",
    "    eduDist(i,j)\n",
    "    \n",
    "print('cluster 1:',cluster1)\n",
    "print('cluster 2:',cluster2)\n",
    "print('cluster 3:',cluster3)"
   ]
  },
  {
   "cell_type": "markdown",
   "metadata": {},
   "source": [
    "# Centroid For Cluster After 1st Iteration"
   ]
  },
  {
   "cell_type": "code",
   "execution_count": 4,
   "metadata": {},
   "outputs": [
    {
     "name": "stdout",
     "output_type": "stream",
     "text": [
      "centroid for cluster1 after 1st iteration:  [5.171, 3.171]\n",
      "centroid for cluster2 after 2nd iteration:  [5.5, 4.2]\n",
      "centroid for cluster3 after 2nd iteration:  [6.45, 2.95]\n"
     ]
    }
   ],
   "source": [
    "def findcentroid(cluster):\n",
    "    sumx=0\n",
    "    sumy=0\n",
    "\n",
    "    for i,j in cluster:\n",
    "        sumx = sumx+i\n",
    "        sumy = sumy+j\n",
    "    \n",
    "    centX=round(sumx/ len(cluster),3)\n",
    "    centY=round(sumy/ len(cluster),3)\n",
    "    cent=[centX,centY]\n",
    "    return cent\n",
    "\n",
    "cent1=findcentroid(cluster1)\n",
    "cent2=findcentroid(cluster2)\n",
    "cent3=findcentroid(cluster3)\n",
    "\n",
    "print('centroid for cluster1 after 1st iteration: ',cent1)\n",
    "print('centroid for cluster2 after 2nd iteration: ',cent2)\n",
    "print('centroid for cluster3 after 2nd iteration: ',cent3)"
   ]
  },
  {
   "cell_type": "markdown",
   "metadata": {},
   "source": [
    "# Centroid For Cluster2 After 2nd Iteration"
   ]
  },
  {
   "cell_type": "code",
   "execution_count": 9,
   "metadata": {},
   "outputs": [
    {
     "name": "stdout",
     "output_type": "stream",
     "text": [
      "cluster1:  [[4.6, 2.9], [4.7, 3.2], [5.0, 3.0], [4.9, 3.1], [5.1, 3.8]]\n",
      "cluster2:  [[5.5, 4.2]]\n",
      "cluster3:  [[5.9, 3.2], [6.2, 2.8], [6.7, 3.1], [6.0, 3.0]]\n",
      "\n",
      "centroid for cluster2 after 2nd iteration:  [5.5, 4.2]\n"
     ]
    }
   ],
   "source": [
    "cluster1=[]\n",
    "cluster2=[]\n",
    "cluster3=[]\n",
    "\n",
    "x1,y1=cent1[0],cent1[1]\n",
    "x2,y2=cent2[0],cent2[1]\n",
    "x3,y3=cent3[0],cent3[1]\n",
    "\n",
    "for i,j in points:\n",
    "    eduDist(i,j)\n",
    "    \n",
    "print('cluster1: ',cluster1)\n",
    "print('cluster2: ',cluster2)\n",
    "print('cluster3: ',cluster3)\n",
    "\n",
    "cent1=findcentroid(cluster1)\n",
    "cent2=findcentroid(cluster2)\n",
    "cent3=findcentroid(cluster3)\n",
    "\n",
    "print('\\ncentroid for cluster2 after 2nd iteration: ',cent2)"
   ]
  },
  {
   "cell_type": "markdown",
   "metadata": {},
   "source": [
    "# centroid for cluster3 after 3rd iteration"
   ]
  },
  {
   "cell_type": "code",
   "execution_count": 12,
   "metadata": {},
   "outputs": [
    {
     "name": "stdout",
     "output_type": "stream",
     "text": [
      "\n",
      "centroid for cluster3 after 3rd iteration:  [6.2, 3.025]\n"
     ]
    }
   ],
   "source": [
    "for i in range(50):\n",
    "    cluster1=[]\n",
    "    cluster2=[]\n",
    "    cluster3=[]\n",
    "\n",
    "    x1,y1=cent1[0],cent1[1]\n",
    "    x2,y2=cent2[0],cent2[1]\n",
    "    x3,y3=cent3[0],cent3[1]\n",
    "\n",
    "    for i,j in points:\n",
    "        eduDist(i,j)\n",
    "\n",
    "    cent1=findcentroid(cluster1)\n",
    "    cent2=findcentroid(cluster2)\n",
    "    cent3=findcentroid(cluster3)\n",
    "\n",
    "print('\\ncentroid for cluster3 after 3rd iteration: ',cent3)"
   ]
  },
  {
   "cell_type": "code",
   "execution_count": null,
   "metadata": {},
   "outputs": [],
   "source": []
  }
 ],
 "metadata": {
  "kernelspec": {
   "display_name": "Python 3",
   "language": "python",
   "name": "python3"
  },
  "language_info": {
   "codemirror_mode": {
    "name": "ipython",
    "version": 3
   },
   "file_extension": ".py",
   "mimetype": "text/x-python",
   "name": "python",
   "nbconvert_exporter": "python",
   "pygments_lexer": "ipython3",
   "version": "3.8.5"
  }
 },
 "nbformat": 4,
 "nbformat_minor": 4
}
